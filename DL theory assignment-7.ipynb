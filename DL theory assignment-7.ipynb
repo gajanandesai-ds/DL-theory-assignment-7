{
 "cells": [
  {
   "cell_type": "raw",
   "id": "d3a8a3a2",
   "metadata": {},
   "source": [
    "1. Can you think of a few applications for a sequence-to-sequence RNN? What about a\n",
    "sequence-to-vector RNN, and a vector-to-sequence RNN?"
   ]
  },
  {
   "cell_type": "raw",
   "id": "62a5ddf5",
   "metadata": {},
   "source": [
    "ans:\n",
    "Here are a few examples of applications for each type of RNN:\n",
    "\n",
    ">>>Sequence-to-sequence RNN:\n",
    "\n",
    "1.Machine translation: translating a sequence of words from one language to another.\n",
    "\n",
    "2.Speech recognition: transcribing spoken words into a sequence of written words.\n",
    "\n",
    "3.Chatbot: generating a sequence of responses to a sequence of inputs from a user.\n",
    "\n",
    "4.Music generation: generating a sequence of musical notes based on a given style or genre.\n",
    "\n",
    ">>>Sequence-to-vector RNN:\n",
    "\n",
    "1.Sentiment analysis: classifying a sequence of words as positive or negative sentiment.\n",
    "\n",
    "2.Stock prediction: predicting the stock price based on a sequence of historical stock prices.\n",
    "\n",
    "3.Video classification: classifying a sequence of frames in a video into different categories (e.g., action, comedy, drama).\n",
    "\n",
    "Natural language generation: generating a summary or description of a sequence of events or information.\n",
    "\n",
    ">>>Vector-to-sequence RNN:\n",
    "\n",
    "1.Image captioning: generating a sequence of words describing the content of an image.\n",
    "\n",
    "2.Speech synthesis: generating a sequence of spoken words based on a given text input.\n",
    "\n",
    "3.Music transcription: transcribing a sequence of musical notes into sheet music.\n",
    "\n",
    "4.Language translation: translating a single word or sentence into a sequence of words in another language."
   ]
  },
  {
   "cell_type": "code",
   "execution_count": null,
   "id": "4eeb1604",
   "metadata": {},
   "outputs": [],
   "source": []
  },
  {
   "cell_type": "raw",
   "id": "904453c2",
   "metadata": {},
   "source": [
    "2. How many dimensions must the inputs of an RNN layer have? What does each dimension\n",
    "represent? What about its outputs?"
   ]
  },
  {
   "cell_type": "raw",
   "id": "e6cb1c73",
   "metadata": {},
   "source": [
    "ans:\n",
    "The inputs of an RNN layer typically have three dimensions: batch size, time steps, and input features.\n",
    "\n",
    "Batch size represents the number of samples that are processed in a single batch.\n",
    "Time steps represent the number of time steps in the sequence. For example, if the input is a sentence with 10 words, and we use one word as a time step, then the time steps would be 10.\n",
    "Input features represent the number of features in each time step. For example, if each word in the sentence is represented as a one-hot encoded vector of length 10000, then the input features would be 10000.\n",
    "The outputs of an RNN layer also have three dimensions, which are typically batch size, time steps, and hidden size.\n",
    "\n",
    "Batch size is the same as in the input.\n",
    "Time steps is also the same as in the input.\n",
    "Hidden size represents the number of hidden units in the RNN layer.\n",
    "The output of each time step in the RNN layer is a hidden state vector, which is computed based on the input and the previous hidden state. The final output of the RNN layer can be obtained by combining the hidden state vectors from all time steps in the sequence. Depending on the specific architecture of the RNN, there may also be additional output dimensions, such as the number of output classes in a classification task."
   ]
  },
  {
   "cell_type": "code",
   "execution_count": null,
   "id": "4a64d47b",
   "metadata": {},
   "outputs": [],
   "source": []
  },
  {
   "cell_type": "raw",
   "id": "78b5261f",
   "metadata": {},
   "source": [
    "3. If you want to build a deep sequence-to-sequence RNN, which RNN layers should\n",
    "have return_sequences=True? What about a sequence-to-vector RNN?"
   ]
  },
  {
   "cell_type": "raw",
   "id": "f1a95729",
   "metadata": {},
   "source": [
    "ans:\n",
    " In a deep sequence-to-sequence RNN, all RNN layers except the last one should have return_sequences=True. This allows all hidden states in the sequence to be passed to the next RNN layer in the stack.\n",
    "\n",
    "In a sequence-to-vector RNN, only the last RNN layer should have return_sequences=False (which is the default value), since we are only interested in the final hidden state to generate the output."
   ]
  },
  {
   "cell_type": "code",
   "execution_count": null,
   "id": "13c1f8f5",
   "metadata": {},
   "outputs": [],
   "source": []
  },
  {
   "cell_type": "raw",
   "id": "ffd852c4",
   "metadata": {},
   "source": [
    "4. Suppose you have a daily univariate time series, and you want to forecast the next seven\n",
    "days. Which RNN architecture should you use?"
   ]
  },
  {
   "cell_type": "raw",
   "id": "6f72f424",
   "metadata": {},
   "source": [
    "ans:\n",
    "For forecasting the next seven days in a daily univariate time series, a suitable RNN architecture to use is the Sequence-to-Sequence (Seq2Seq) model with an encoder-decoder architecture.\n",
    "\n",
    "The encoder takes the input sequence (e.g., past 30 days) and outputs a fixed-length vector that summarizes the input information. The decoder then takes this vector and generates the output sequence (e.g., forecast for the next 7 days).\n",
    "\n",
    "To improve the performance of the model, we can use techniques such as teacher forcing, attention mechanism, and residual connections. Additionally, we can add other components to the model, such as a seasonal component, to capture the periodicity of the data."
   ]
  },
  {
   "cell_type": "code",
   "execution_count": null,
   "id": "592688f0",
   "metadata": {},
   "outputs": [],
   "source": []
  },
  {
   "cell_type": "raw",
   "id": "0e0d0565",
   "metadata": {},
   "source": [
    "5. What are the main difficulties when training RNNs? How can you handle them?"
   ]
  },
  {
   "cell_type": "raw",
   "id": "3d769f19",
   "metadata": {},
   "source": [
    "ans:\n",
    "There are several main difficulties when training RNNs, including:\n",
    "\n",
    "Vanishing and exploding gradients: The gradients in RNNs can become too small or too large, making it difficult to learn long-term dependencies. This can be addressed by using techniques such as gradient clipping, weight initialization, and using gated RNN variants like LSTMs and GRUs.\n",
    "\n",
    "Overfitting: RNNs can easily overfit due to their high capacity and the sequential nature of the data. Regularization techniques such as dropout, early stopping, and weight decay can help address this problem.\n",
    "\n",
    "Difficulty in parallelization: Unlike feedforward neural networks, RNNs are difficult to parallelize due to their sequential nature. This can result in slow training times, especially for large sequences. One way to handle this is to use techniques such as truncated backpropagation through time (BPTT) and bucketing to reduce the length of the sequences.\n",
    "\n",
    "Input normalization: RNNs are sensitive to the scale of the input features, and normalization can help improve their performance. Standard normalization techniques such as min-max scaling and z-score normalization can be used.\n",
    "\n",
    "Choosing hyperparameters: RNNs have several hyperparameters such as the number of layers, hidden units, learning rate, and batch size that need to be tuned carefully. Techniques such as grid search, random search, and Bayesian optimization can be used to find optimal hyperparameters.\n",
    "\n",
    "To handle these difficulties, it is important to experiment with different architectures, regularization techniques, optimization algorithms, and hyperparameters to find the best combination for the given problem. It is also important to monitor the training process carefully, visualize the results, and make adjustments as necessary. Additionally, using pre-trained models or transfer learning can help to overcome some of these difficulties."
   ]
  },
  {
   "cell_type": "code",
   "execution_count": null,
   "id": "12a15e47",
   "metadata": {},
   "outputs": [],
   "source": []
  },
  {
   "cell_type": "raw",
   "id": "98a67081",
   "metadata": {},
   "source": [
    "6. Can you sketch the LSTM cell’s architecture?"
   ]
  },
  {
   "cell_type": "raw",
   "id": "5a50b599",
   "metadata": {},
   "source": [
    "ans:\n",
    "Yes, I can sketch the LSTM cell's architecture.\n",
    "\n",
    "The LSTM cell has three gates: the input gate, forget gate, and output gate, which control the flow of information into and out of the cell. It also has a memory cell that stores the previous hidden state and a current hidden state that is passed to the next cell in the sequence. The tanh activation function is applied to the current hidden state to introduce non-linearity into the cell. The input and forget gates are sigmoid layers that control the amount of information to be passed to the memory cell and the amount of information to be forgotten from the previous cell state. The output gate is also a sigmoid layer that controls the amount of information to be output from the current hidden state.\n",
    "\n",
    "The LSTM architecture enables it to learn long-term dependencies by allowing information to flow through the cell without being lost or distorted. The gates provide a way for the model to selectively remember or forget information, which makes it suitable for tasks such as speech recognition, machine translation, and sentiment analysis."
   ]
  },
  {
   "cell_type": "code",
   "execution_count": null,
   "id": "43cab5c8",
   "metadata": {},
   "outputs": [],
   "source": []
  },
  {
   "cell_type": "raw",
   "id": "477316b5",
   "metadata": {},
   "source": [
    "7. Why would you want to use 1D convolutional layers in an RNN"
   ]
  },
  {
   "cell_type": "raw",
   "id": "d5c1ac49",
   "metadata": {},
   "source": [
    "ans:\n",
    "1D convolutional layers can be used in an RNN to capture local patterns in sequential data. The convolution operation applies a sliding window over the sequence, performing a dot product between the weights of the filter and the corresponding input elements. This operation can extract local features, such as patterns or motifs, that are relevant to the task.\n",
    "\n",
    "One advantage of using 1D convolutional layers in an RNN is that it can reduce the dimensionality of the input, which can be useful for processing long sequences. This can help to reduce the computational complexity of the model and prevent overfitting.\n",
    "\n",
    "Another advantage is that the use of 1D convolutions can provide the model with a translational invariance property, which means that the model can identify patterns regardless of their position in the sequence. This can be useful for tasks such as speech recognition or music analysis, where the location of relevant features may vary.\n",
    "\n",
    "Overall, using 1D convolutional layers in an RNN can improve the model's ability to extract meaningful features from the input sequence and improve its performance on tasks that require the identification of local patterns or motifs."
   ]
  },
  {
   "cell_type": "code",
   "execution_count": null,
   "id": "7128dd39",
   "metadata": {},
   "outputs": [],
   "source": []
  },
  {
   "cell_type": "raw",
   "id": "de2c6b84",
   "metadata": {},
   "source": [
    "8. Which neural network architecture could you use to classify videos?"
   ]
  },
  {
   "cell_type": "raw",
   "id": "03a5550a",
   "metadata": {},
   "source": [
    "ans:\n",
    "To classify videos, a suitable neural network architecture is the 3D Convolutional Neural Network (CNN).\n",
    "\n",
    "A 3D CNN operates on a sequence of video frames, treating them as 3D volumes with depth, height, and width. The network applies 3D convolutional filters to the video sequence, which allows the model to capture spatial and temporal features in the data.\n",
    "\n",
    "The 3D CNN architecture typically consists of multiple layers of 3D convolutional filters, followed by pooling and activation layers. The output of the convolutional layers is fed into fully connected layers, which output the final classification labels.\n",
    "\n",
    "One advantage of using a 3D CNN for video classification is that it can capture both spatial and temporal information in the video sequence. This can help the model to identify complex patterns in the video data and improve its classification accuracy.\n",
    "\n",
    "Another advantage is that 3D CNNs can be trained end-to-end, which means that the entire model can be optimized for the task without the need for hand-crafted features or pre-processing steps.\n",
    "\n",
    "Overall, the 3D CNN architecture is a powerful and effective approach for video classification tasks, and it has been successfully applied in areas such as action recognition, facial expression analysis, and object detection in videos."
   ]
  },
  {
   "cell_type": "code",
   "execution_count": null,
   "id": "14e87f78",
   "metadata": {},
   "outputs": [],
   "source": []
  },
  {
   "cell_type": "raw",
   "id": "876d78de",
   "metadata": {},
   "source": [
    "9. Train a classification model for the SketchRNN dataset, available in TensorFlow Datasets."
   ]
  },
  {
   "cell_type": "code",
   "execution_count": 1,
   "id": "1b6ce0a9",
   "metadata": {},
   "outputs": [
    {
     "name": "stdout",
     "output_type": "stream",
     "text": [
      "Collecting tensorflow_addons\n",
      "  Downloading tensorflow_addons-0.21.0-cp38-cp38-macosx_10_14_x86_64.whl (13.4 MB)\n",
      "\u001b[K     |████████████████████████████████| 13.4 MB 725 kB/s eta 0:00:01\n",
      "\u001b[?25hRequirement already satisfied: packaging in /opt/anaconda3/lib/python3.8/site-packages (from tensorflow_addons) (20.9)\n",
      "Collecting typeguard<3.0.0,>=2.7\n",
      "  Downloading typeguard-2.13.3-py3-none-any.whl (17 kB)\n",
      "Requirement already satisfied: pyparsing>=2.0.2 in /opt/anaconda3/lib/python3.8/site-packages (from packaging->tensorflow_addons) (2.4.7)\n",
      "Installing collected packages: typeguard, tensorflow-addons\n",
      "Successfully installed tensorflow-addons-0.21.0 typeguard-2.13.3\n"
     ]
    }
   ],
   "source": [
    "!pip install tensorflow_addons"
   ]
  },
  {
   "cell_type": "code",
   "execution_count": 2,
   "id": "28f7f2c8",
   "metadata": {},
   "outputs": [
    {
     "ename": "ModuleNotFoundError",
     "evalue": "No module named 'tensorflow'",
     "output_type": "error",
     "traceback": [
      "\u001b[0;31m---------------------------------------------------------------------------\u001b[0m",
      "\u001b[0;31mModuleNotFoundError\u001b[0m                       Traceback (most recent call last)",
      "\u001b[0;32m<ipython-input-2-63769e98f3a3>\u001b[0m in \u001b[0;36m<module>\u001b[0;34m\u001b[0m\n\u001b[0;32m----> 1\u001b[0;31m \u001b[0;32mimport\u001b[0m \u001b[0mtensorflow\u001b[0m \u001b[0;32mas\u001b[0m \u001b[0mtf\u001b[0m\u001b[0;34m\u001b[0m\u001b[0;34m\u001b[0m\u001b[0m\n\u001b[0m\u001b[1;32m      2\u001b[0m \u001b[0;32mimport\u001b[0m \u001b[0mtensorflow_datasets\u001b[0m \u001b[0;32mas\u001b[0m \u001b[0mtfds\u001b[0m\u001b[0;34m\u001b[0m\u001b[0;34m\u001b[0m\u001b[0m\n\u001b[1;32m      3\u001b[0m \u001b[0;32mimport\u001b[0m \u001b[0mtensorflow_addons\u001b[0m \u001b[0;32mas\u001b[0m \u001b[0mtfa\u001b[0m\u001b[0;34m\u001b[0m\u001b[0;34m\u001b[0m\u001b[0m\n\u001b[1;32m      4\u001b[0m \u001b[0;32mimport\u001b[0m \u001b[0mnumpy\u001b[0m \u001b[0;32mas\u001b[0m \u001b[0mnp\u001b[0m\u001b[0;34m\u001b[0m\u001b[0;34m\u001b[0m\u001b[0m\n",
      "\u001b[0;31mModuleNotFoundError\u001b[0m: No module named 'tensorflow'"
     ]
    }
   ],
   "source": [
    "import tensorflow as tf\n",
    "import tensorflow_datasets as tfds\n",
    "import tensorflow_addons as tfa\n",
    "import numpy as np"
   ]
  },
  {
   "cell_type": "code",
   "execution_count": 3,
   "id": "132e07c0",
   "metadata": {},
   "outputs": [
    {
     "ename": "NameError",
     "evalue": "name 'tfds' is not defined",
     "output_type": "error",
     "traceback": [
      "\u001b[0;31m---------------------------------------------------------------------------\u001b[0m",
      "\u001b[0;31mNameError\u001b[0m                                 Traceback (most recent call last)",
      "\u001b[0;32m<ipython-input-3-d156696c4e66>\u001b[0m in \u001b[0;36m<module>\u001b[0;34m\u001b[0m\n\u001b[1;32m      1\u001b[0m \u001b[0;31m# Load the quickdraw_bitmap split of the SketchRNN dataset\u001b[0m\u001b[0;34m\u001b[0m\u001b[0;34m\u001b[0m\u001b[0;34m\u001b[0m\u001b[0m\n\u001b[0;32m----> 2\u001b[0;31m \u001b[0mdata\u001b[0m \u001b[0;34m=\u001b[0m \u001b[0mtfds\u001b[0m\u001b[0;34m.\u001b[0m\u001b[0mload\u001b[0m\u001b[0;34m(\u001b[0m\u001b[0;34m'quickdraw_bitmap'\u001b[0m\u001b[0;34m,\u001b[0m \u001b[0msplit\u001b[0m\u001b[0;34m=\u001b[0m\u001b[0;34m'train'\u001b[0m\u001b[0;34m,\u001b[0m \u001b[0mas_supervised\u001b[0m\u001b[0;34m=\u001b[0m\u001b[0;32mTrue\u001b[0m\u001b[0;34m)\u001b[0m\u001b[0;34m\u001b[0m\u001b[0;34m\u001b[0m\u001b[0m\n\u001b[0m",
      "\u001b[0;31mNameError\u001b[0m: name 'tfds' is not defined"
     ]
    }
   ],
   "source": [
    "# Load the quickdraw_bitmap split of the SketchRNN dataset\n",
    "data = tfds.load('quickdraw_bitmap', split='train', as_supervised=True)"
   ]
  },
  {
   "cell_type": "code",
   "execution_count": 4,
   "id": "3fec4b2c",
   "metadata": {},
   "outputs": [
    {
     "ename": "NameError",
     "evalue": "name 'tfds' is not defined",
     "output_type": "error",
     "traceback": [
      "\u001b[0;31m---------------------------------------------------------------------------\u001b[0m",
      "\u001b[0;31mNameError\u001b[0m                                 Traceback (most recent call last)",
      "\u001b[0;32m<ipython-input-4-db247a4a1230>\u001b[0m in \u001b[0;36m<module>\u001b[0;34m\u001b[0m\n\u001b[1;32m      1\u001b[0m \u001b[0;31m# Convert the dataset to numpy arrays\u001b[0m\u001b[0;34m\u001b[0m\u001b[0;34m\u001b[0m\u001b[0;34m\u001b[0m\u001b[0m\n\u001b[0;32m----> 2\u001b[0;31m \u001b[0mdata\u001b[0m \u001b[0;34m=\u001b[0m \u001b[0mtfds\u001b[0m\u001b[0;34m.\u001b[0m\u001b[0mas_numpy\u001b[0m\u001b[0;34m(\u001b[0m\u001b[0mdata\u001b[0m\u001b[0;34m)\u001b[0m\u001b[0;34m\u001b[0m\u001b[0;34m\u001b[0m\u001b[0m\n\u001b[0m",
      "\u001b[0;31mNameError\u001b[0m: name 'tfds' is not defined"
     ]
    }
   ],
   "source": [
    "# Convert the dataset to numpy arrays\n",
    "data = tfds.as_numpy(data)"
   ]
  },
  {
   "cell_type": "code",
   "execution_count": 5,
   "id": "9018800c",
   "metadata": {},
   "outputs": [
    {
     "ename": "NameError",
     "evalue": "name 'data' is not defined",
     "output_type": "error",
     "traceback": [
      "\u001b[0;31m---------------------------------------------------------------------------\u001b[0m",
      "\u001b[0;31mNameError\u001b[0m                                 Traceback (most recent call last)",
      "\u001b[0;32m<ipython-input-5-1234bca5a8b0>\u001b[0m in \u001b[0;36m<module>\u001b[0;34m\u001b[0m\n\u001b[1;32m      2\u001b[0m \u001b[0minputs\u001b[0m \u001b[0;34m=\u001b[0m \u001b[0;34m[\u001b[0m\u001b[0;34m]\u001b[0m\u001b[0;34m\u001b[0m\u001b[0;34m\u001b[0m\u001b[0m\n\u001b[1;32m      3\u001b[0m \u001b[0mlabels\u001b[0m \u001b[0;34m=\u001b[0m \u001b[0;34m[\u001b[0m\u001b[0;34m]\u001b[0m\u001b[0;34m\u001b[0m\u001b[0;34m\u001b[0m\u001b[0m\n\u001b[0;32m----> 4\u001b[0;31m \u001b[0;32mfor\u001b[0m \u001b[0mimage\u001b[0m\u001b[0;34m,\u001b[0m \u001b[0mlabel\u001b[0m \u001b[0;32min\u001b[0m \u001b[0mdata\u001b[0m\u001b[0;34m:\u001b[0m\u001b[0;34m\u001b[0m\u001b[0;34m\u001b[0m\u001b[0m\n\u001b[0m\u001b[1;32m      5\u001b[0m     \u001b[0msequence\u001b[0m \u001b[0;34m=\u001b[0m \u001b[0mtfa\u001b[0m\u001b[0;34m.\u001b[0m\u001b[0mimage\u001b[0m\u001b[0;34m.\u001b[0m\u001b[0mrotate\u001b[0m\u001b[0;34m(\u001b[0m\u001b[0mimage\u001b[0m\u001b[0;34m,\u001b[0m \u001b[0;36m90\u001b[0m\u001b[0;34m)\u001b[0m  \u001b[0;31m# Rotate the image to align with the SketchRNN format\u001b[0m\u001b[0;34m\u001b[0m\u001b[0;34m\u001b[0m\u001b[0m\n\u001b[1;32m      6\u001b[0m     \u001b[0msequence\u001b[0m \u001b[0;34m=\u001b[0m \u001b[0mtfa\u001b[0m\u001b[0;34m.\u001b[0m\u001b[0mimage\u001b[0m\u001b[0;34m.\u001b[0m\u001b[0mflip_left_right\u001b[0m\u001b[0;34m(\u001b[0m\u001b[0msequence\u001b[0m\u001b[0;34m)\u001b[0m  \u001b[0;31m# Flip the image to mirror the stroke directions\u001b[0m\u001b[0;34m\u001b[0m\u001b[0;34m\u001b[0m\u001b[0m\n",
      "\u001b[0;31mNameError\u001b[0m: name 'data' is not defined"
     ]
    }
   ],
   "source": [
    "# Extract the stroke sequences from the bitmap images\n",
    "inputs = []\n",
    "labels = []\n",
    "for image, label in data:\n",
    "    sequence = tfa.image.rotate(image, 90)  # Rotate the image to align with the SketchRNN format\n",
    "    sequence = tfa.image.flip_left_right(sequence)  # Flip the image to mirror the stroke directions\n",
    "    sequence = np.pad(sequence, ((1, 0), (0, 0), (0, 0)), mode='constant')[:-1]  # Add a starting pen-down stroke\n",
    "    inputs.append(sequence)\n",
    "    labels.append(label)\n",
    "\n",
    "inputs = np.array(inputs)\n",
    "labels = np.array(labels)"
   ]
  },
  {
   "cell_type": "code",
   "execution_count": 6,
   "id": "329d7ffe",
   "metadata": {},
   "outputs": [
    {
     "ename": "NameError",
     "evalue": "name 'tf' is not defined",
     "output_type": "error",
     "traceback": [
      "\u001b[0;31m---------------------------------------------------------------------------\u001b[0m",
      "\u001b[0;31mNameError\u001b[0m                                 Traceback (most recent call last)",
      "\u001b[0;32m<ipython-input-6-854a5f84cdec>\u001b[0m in \u001b[0;36m<module>\u001b[0;34m\u001b[0m\n\u001b[1;32m      1\u001b[0m \u001b[0;31m# Define the model architecture\u001b[0m\u001b[0;34m\u001b[0m\u001b[0;34m\u001b[0m\u001b[0;34m\u001b[0m\u001b[0m\n\u001b[0;32m----> 2\u001b[0;31m model = tf.keras.Sequential([\n\u001b[0m\u001b[1;32m      3\u001b[0m     \u001b[0mtf\u001b[0m\u001b[0;34m.\u001b[0m\u001b[0mkeras\u001b[0m\u001b[0;34m.\u001b[0m\u001b[0mlayers\u001b[0m\u001b[0;34m.\u001b[0m\u001b[0mInput\u001b[0m\u001b[0;34m(\u001b[0m\u001b[0mshape\u001b[0m\u001b[0;34m=\u001b[0m\u001b[0;34m(\u001b[0m\u001b[0;32mNone\u001b[0m\u001b[0;34m,\u001b[0m \u001b[0;36m5\u001b[0m\u001b[0;34m)\u001b[0m\u001b[0;34m)\u001b[0m\u001b[0;34m,\u001b[0m\u001b[0;34m\u001b[0m\u001b[0;34m\u001b[0m\u001b[0m\n\u001b[1;32m      4\u001b[0m     \u001b[0mtf\u001b[0m\u001b[0;34m.\u001b[0m\u001b[0mkeras\u001b[0m\u001b[0;34m.\u001b[0m\u001b[0mlayers\u001b[0m\u001b[0;34m.\u001b[0m\u001b[0mLSTM\u001b[0m\u001b[0;34m(\u001b[0m\u001b[0;36m256\u001b[0m\u001b[0;34m)\u001b[0m\u001b[0;34m,\u001b[0m\u001b[0;34m\u001b[0m\u001b[0;34m\u001b[0m\u001b[0m\n\u001b[1;32m      5\u001b[0m     \u001b[0mtf\u001b[0m\u001b[0;34m.\u001b[0m\u001b[0mkeras\u001b[0m\u001b[0;34m.\u001b[0m\u001b[0mlayers\u001b[0m\u001b[0;34m.\u001b[0m\u001b[0mDense\u001b[0m\u001b[0;34m(\u001b[0m\u001b[0;36m345\u001b[0m\u001b[0;34m,\u001b[0m \u001b[0mactivation\u001b[0m\u001b[0;34m=\u001b[0m\u001b[0;34m'softmax'\u001b[0m\u001b[0;34m)\u001b[0m\u001b[0;34m\u001b[0m\u001b[0;34m\u001b[0m\u001b[0m\n",
      "\u001b[0;31mNameError\u001b[0m: name 'tf' is not defined"
     ]
    }
   ],
   "source": [
    "# Define the model architecture\n",
    "model = tf.keras.Sequential([\n",
    "    tf.keras.layers.Input(shape=(None, 5)),\n",
    "    tf.keras.layers.LSTM(256),\n",
    "    tf.keras.layers.Dense(345, activation='softmax')\n",
    "])"
   ]
  },
  {
   "cell_type": "code",
   "execution_count": 7,
   "id": "068a9e4b",
   "metadata": {},
   "outputs": [
    {
     "ename": "NameError",
     "evalue": "name 'model' is not defined",
     "output_type": "error",
     "traceback": [
      "\u001b[0;31m---------------------------------------------------------------------------\u001b[0m",
      "\u001b[0;31mNameError\u001b[0m                                 Traceback (most recent call last)",
      "\u001b[0;32m<ipython-input-7-8524f377fcd8>\u001b[0m in \u001b[0;36m<module>\u001b[0;34m\u001b[0m\n\u001b[1;32m      1\u001b[0m \u001b[0;31m# Compile the model\u001b[0m\u001b[0;34m\u001b[0m\u001b[0;34m\u001b[0m\u001b[0;34m\u001b[0m\u001b[0m\n\u001b[0;32m----> 2\u001b[0;31m \u001b[0mmodel\u001b[0m\u001b[0;34m.\u001b[0m\u001b[0mcompile\u001b[0m\u001b[0;34m(\u001b[0m\u001b[0moptimizer\u001b[0m\u001b[0;34m=\u001b[0m\u001b[0;34m'adam'\u001b[0m\u001b[0;34m,\u001b[0m \u001b[0mloss\u001b[0m\u001b[0;34m=\u001b[0m\u001b[0;34m'sparse_categorical_crossentropy'\u001b[0m\u001b[0;34m,\u001b[0m \u001b[0mmetrics\u001b[0m\u001b[0;34m=\u001b[0m\u001b[0;34m[\u001b[0m\u001b[0;34m'accuracy'\u001b[0m\u001b[0;34m]\u001b[0m\u001b[0;34m)\u001b[0m\u001b[0;34m\u001b[0m\u001b[0;34m\u001b[0m\u001b[0m\n\u001b[0m",
      "\u001b[0;31mNameError\u001b[0m: name 'model' is not defined"
     ]
    }
   ],
   "source": [
    "# Compile the model\n",
    "model.compile(optimizer='adam', loss='sparse_categorical_crossentropy', metrics=['accuracy'])"
   ]
  },
  {
   "cell_type": "code",
   "execution_count": 8,
   "id": "1aac2346",
   "metadata": {},
   "outputs": [
    {
     "ename": "NameError",
     "evalue": "name 'model' is not defined",
     "output_type": "error",
     "traceback": [
      "\u001b[0;31m---------------------------------------------------------------------------\u001b[0m",
      "\u001b[0;31mNameError\u001b[0m                                 Traceback (most recent call last)",
      "\u001b[0;32m<ipython-input-8-86041f096eee>\u001b[0m in \u001b[0;36m<module>\u001b[0;34m\u001b[0m\n\u001b[1;32m      1\u001b[0m \u001b[0;31m# Train the model\u001b[0m\u001b[0;34m\u001b[0m\u001b[0;34m\u001b[0m\u001b[0;34m\u001b[0m\u001b[0m\n\u001b[0;32m----> 2\u001b[0;31m \u001b[0mmodel\u001b[0m\u001b[0;34m.\u001b[0m\u001b[0mfit\u001b[0m\u001b[0;34m(\u001b[0m\u001b[0minputs\u001b[0m\u001b[0;34m,\u001b[0m \u001b[0mlabels\u001b[0m\u001b[0;34m,\u001b[0m \u001b[0mepochs\u001b[0m\u001b[0;34m=\u001b[0m\u001b[0;36m10\u001b[0m\u001b[0;34m,\u001b[0m \u001b[0mbatch_size\u001b[0m\u001b[0;34m=\u001b[0m\u001b[0;36m32\u001b[0m\u001b[0;34m)\u001b[0m\u001b[0;34m\u001b[0m\u001b[0;34m\u001b[0m\u001b[0m\n\u001b[0m",
      "\u001b[0;31mNameError\u001b[0m: name 'model' is not defined"
     ]
    }
   ],
   "source": [
    "# Train the model\n",
    "model.fit(inputs, labels, epochs=10, batch_size=32)"
   ]
  },
  {
   "cell_type": "code",
   "execution_count": 9,
   "id": "e8af8f13",
   "metadata": {},
   "outputs": [
    {
     "ename": "NameError",
     "evalue": "name 'tfds' is not defined",
     "output_type": "error",
     "traceback": [
      "\u001b[0;31m---------------------------------------------------------------------------\u001b[0m",
      "\u001b[0;31mNameError\u001b[0m                                 Traceback (most recent call last)",
      "\u001b[0;32m<ipython-input-9-f6d29b9e96e2>\u001b[0m in \u001b[0;36m<module>\u001b[0;34m\u001b[0m\n\u001b[1;32m      1\u001b[0m \u001b[0;31m# Evaluate the model on the test data\u001b[0m\u001b[0;34m\u001b[0m\u001b[0;34m\u001b[0m\u001b[0;34m\u001b[0m\u001b[0m\n\u001b[0;32m----> 2\u001b[0;31m \u001b[0mtest_data\u001b[0m \u001b[0;34m=\u001b[0m \u001b[0mtfds\u001b[0m\u001b[0;34m.\u001b[0m\u001b[0mload\u001b[0m\u001b[0;34m(\u001b[0m\u001b[0;34m'quickdraw_bitmap'\u001b[0m\u001b[0;34m,\u001b[0m \u001b[0msplit\u001b[0m\u001b[0;34m=\u001b[0m\u001b[0;34m'test'\u001b[0m\u001b[0;34m,\u001b[0m \u001b[0mas_supervised\u001b[0m\u001b[0;34m=\u001b[0m\u001b[0;32mTrue\u001b[0m\u001b[0;34m)\u001b[0m\u001b[0;34m\u001b[0m\u001b[0;34m\u001b[0m\u001b[0m\n\u001b[0m\u001b[1;32m      3\u001b[0m \u001b[0mtest_data\u001b[0m \u001b[0;34m=\u001b[0m \u001b[0mtfds\u001b[0m\u001b[0;34m.\u001b[0m\u001b[0mas_numpy\u001b[0m\u001b[0;34m(\u001b[0m\u001b[0mtest_data\u001b[0m\u001b[0;34m)\u001b[0m\u001b[0;34m\u001b[0m\u001b[0;34m\u001b[0m\u001b[0m\n\u001b[1;32m      4\u001b[0m \u001b[0mtest_inputs\u001b[0m \u001b[0;34m=\u001b[0m \u001b[0;34m[\u001b[0m\u001b[0;34m]\u001b[0m\u001b[0;34m\u001b[0m\u001b[0;34m\u001b[0m\u001b[0m\n\u001b[1;32m      5\u001b[0m \u001b[0mtest_labels\u001b[0m \u001b[0;34m=\u001b[0m \u001b[0;34m[\u001b[0m\u001b[0;34m]\u001b[0m\u001b[0;34m\u001b[0m\u001b[0;34m\u001b[0m\u001b[0m\n",
      "\u001b[0;31mNameError\u001b[0m: name 'tfds' is not defined"
     ]
    }
   ],
   "source": [
    "# Evaluate the model on the test data\n",
    "test_data = tfds.load('quickdraw_bitmap', split='test', as_supervised=True)\n",
    "test_data = tfds.as_numpy(test_data)\n",
    "test_inputs = []\n",
    "test_labels = []\n",
    "for image, label in test_data:\n",
    "    sequence = tfa.image.rotate(image, 90)\n",
    "    sequence = tfa.image.flip_left_right(sequence)\n",
    "    sequence = np.pad(sequence, ((1, 0), (0, 0), (0, 0)), mode='constant')[:-1]\n",
    "    test_inputs.append(sequence)\n",
    "    test_labels.append(label)\n",
    "\n",
    "test_inputs = np.array(test_inputs)\n",
    "test_labels = np.array(test_labels)\n",
    "test_loss, test_accuracy = model.evaluate(test_inputs, test_labels, batch_size=32)\n",
    "print('Test loss:', test_loss)\n",
    "print('Test accuracy:', test_accuracy)"
   ]
  },
  {
   "cell_type": "code",
   "execution_count": null,
   "id": "3ba54b59",
   "metadata": {},
   "outputs": [],
   "source": []
  }
 ],
 "metadata": {
  "kernelspec": {
   "display_name": "Python 3",
   "language": "python",
   "name": "python3"
  },
  "language_info": {
   "codemirror_mode": {
    "name": "ipython",
    "version": 3
   },
   "file_extension": ".py",
   "mimetype": "text/x-python",
   "name": "python",
   "nbconvert_exporter": "python",
   "pygments_lexer": "ipython3",
   "version": "3.8.8"
  }
 },
 "nbformat": 4,
 "nbformat_minor": 5
}
